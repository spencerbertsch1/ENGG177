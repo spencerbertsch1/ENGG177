{
 "cells": [
  {
   "cell_type": "markdown",
   "id": "3bda526a-1e92-4ea6-a6fd-9411e2fb505c",
   "metadata": {},
   "source": [
    "# ENGG177 In Class Exercises \n",
    "### Lecture 4, Problem 3\n",
    "\n",
    "Spencer Bertsch"
   ]
  },
  {
   "cell_type": "code",
   "execution_count": 2,
   "id": "92f16812-27e8-4ef0-bfc6-a8551b88bbb7",
   "metadata": {},
   "outputs": [],
   "source": [
    "import random\n",
    "import numpy as np"
   ]
  },
  {
   "cell_type": "code",
   "execution_count": 31,
   "id": "a641c607-7194-4a72-854e-31dc3faeb7ae",
   "metadata": {},
   "outputs": [],
   "source": [
    "def flipCoin():\n",
    "    return random.choice([True,False])"
   ]
  },
  {
   "cell_type": "markdown",
   "id": "cdcc0036-a069-4cde-8f03-0e1539b7a0fc",
   "metadata": {},
   "source": [
    "Let's run this using a frequentist approach (with a simulation of 10 million trials) "
   ]
  },
  {
   "cell_type": "code",
   "execution_count": 43,
   "id": "0bdc8c4d-5c66-4678-b379-192dd2ab1c1f",
   "metadata": {},
   "outputs": [
    {
     "name": "stdout",
     "output_type": "stream",
     "text": [
      "After 1000000 trials, we recorded 199971 wins and 800029 loses. The player won 20.0% of the time.\n"
     ]
    }
   ],
   "source": [
    "wins = 0\n",
    "loses = 0\n",
    "tosses_list = []\n",
    "winning_tosses_list = []\n",
    "TRIALS: int = 1_000_000\n",
    "\n",
    "for i in range(TRIALS):\n",
    "\n",
    "    # initialize capital to 2\n",
    "    capital = 2\n",
    "    playing = True\n",
    "    tosses = 0\n",
    "    while playing is True:\n",
    "        # increment the number of coin tosses\n",
    "        tosses += 1\n",
    "        \n",
    "        # define the amount of money you want to bet here\n",
    "        if capital > 5: \n",
    "            bet = 10 - capital\n",
    "        else:\n",
    "            bet = capital\n",
    "\n",
    "        if flipCoin() is True:\n",
    "            # add the new winnings to the capital you already have \n",
    "            capital = capital + bet\n",
    "\n",
    "            # if we win the game, then increment wins and break out of the loop\n",
    "            if capital >= 10: \n",
    "                wins += 1\n",
    "                playing = False\n",
    "                winning_tosses_list.append(tosses)\n",
    "\n",
    "        else: \n",
    "            # we pay the casino the amount equal to our bet\n",
    "            capital = capital - bet\n",
    "\n",
    "            # if we have run out of money, we lost the game so we record the loss and break \n",
    "            if capital <= 0:\n",
    "                loses += 1\n",
    "                playing = False\n",
    "                \n",
    "    tosses_list.append(tosses)\n",
    "\n",
    "prob_win: float = round(wins/(loses+wins), 4)*100\n",
    "print(f'After {TRIALS} trials, we recorded {wins} wins and {loses} loses. The player won {prob_win}% of the time.')"
   ]
  },
  {
   "cell_type": "code",
   "execution_count": 44,
   "id": "8f5d4b9a-d619-48ec-a3ba-88d6add09537",
   "metadata": {},
   "outputs": [
    {
     "name": "stdout",
     "output_type": "stream",
     "text": [
      "Probability of winning is: 20%\n"
     ]
    }
   ],
   "source": [
    "print(f'Probability of winning is: {round(prob_win)}%')"
   ]
  },
  {
   "cell_type": "markdown",
   "id": "d61af2bc-c8c0-41f2-b5d5-6d27ca60ec32",
   "metadata": {},
   "source": [
    "We can also test our solution to the homework problem using this code: "
   ]
  },
  {
   "cell_type": "code",
   "execution_count": 45,
   "id": "5deaeb99-ae4c-4cad-b59c-3748d9b4d81a",
   "metadata": {},
   "outputs": [
    {
     "name": "stdout",
     "output_type": "stream",
     "text": [
      "On average, the coin was tossed 2.0 times.\n"
     ]
    }
   ],
   "source": [
    "print(f'On average, the coin was tossed {round(sum(tosses_list)/len(tosses_list), 1)} times.')"
   ]
  },
  {
   "cell_type": "code",
   "execution_count": 46,
   "id": "e10b1e13-090f-42a4-996d-b0cd2bb18e9d",
   "metadata": {},
   "outputs": [
    {
     "name": "stdout",
     "output_type": "stream",
     "text": [
      "When the gambler won, the coin was tossed an average of 3.6 times.\n"
     ]
    }
   ],
   "source": [
    "print(f'When the gambler won, the coin was tossed an average of {round(sum(winning_tosses_list)/len(winning_tosses_list), 1)} times.')"
   ]
  },
  {
   "cell_type": "markdown",
   "id": "edcb698e-78ea-4d1b-8258-0ccbac98e2f1",
   "metadata": {},
   "source": [
    "Ok that was fun and we got the correct answer, but now let's solve it the correct way: "
   ]
  },
  {
   "cell_type": "markdown",
   "id": "7cf55162-4321-4e7c-8b49-0d7e8bb13aa8",
   "metadata": {},
   "source": [
    "# Homework 1\n",
    "\n",
    "### Question 3"
   ]
  },
  {
   "cell_type": "markdown",
   "id": "9c3473c4-3d2b-4079-ba63-c9b4f5528879",
   "metadata": {},
   "source": [
    "Let's define the system of linear equations that we need to solve:"
   ]
  },
  {
   "cell_type": "markdown",
   "id": "06eca44a-7e06-46d7-baf5-b0ee3c753736",
   "metadata": {},
   "source": [
    "$p_2$ = $1/2 \\cdot p_{0} + 1/2 \\cdot p_{4}$\n",
    "\n",
    "$p_4$ = $1/2 \\cdot p_{0} + 1/2 \\cdot p_{8}$\n",
    "\n",
    "$p_6$ = $1/2 \\cdot p_{2} + 1/2 \\cdot p_{10}$\n",
    "\n",
    "$p_8$ = $1/2 \\cdot p_{6} + 1/2 \\cdot p_{10}$\n",
    "\n",
    "$p_{10} = 1$\n",
    "\n",
    "$p_0 = 0$"
   ]
  },
  {
   "cell_type": "code",
   "execution_count": null,
   "id": "f168c083-ff50-4b03-b86e-7549fbac2dbe",
   "metadata": {},
   "outputs": [],
   "source": [
    "a = np.array([[1, 2], [3, 5]])\n",
    "b = np.array([1, 2])\n",
    "x = np.linalg.solve(a, b)"
   ]
  },
  {
   "cell_type": "markdown",
   "id": "f2aa554d-f7c8-4105-9deb-f161e5e773e0",
   "metadata": {},
   "source": [
    "# Homework 1 Question 4"
   ]
  },
  {
   "cell_type": "markdown",
   "id": "05876baa-7c0b-4703-a3fb-ae541774aa45",
   "metadata": {},
   "source": [
    "0 = -1*π1 + 1/3*π2 + 1/3*π3 + 0*π4 + 1/3*π5 + 0*π6 + 0*π7 + 0*π8  \n",
    "0 = 1/3*π1 + -1*π2 + 0*π3 + 1/3*π4 + 0*π5 + 1/3*π6 + 0*π7 + 0*π8  \n",
    "0 = 1/3*π1 + 0*π2 + -1*π3 + 1/3*π4 + 0*π5 + 0*π6 + 1/3*π7 + 0*π8  \n",
    "0 = 0*π1 + 1/3*π2 + 1/3*π3 + -1*π4 + 0*π5 + 0*π6 + 0*π7 + 1/3*π8  \n",
    "0 = 1/3*π1 + 0*π2 + 0*π3 + 0*π4 + -1*π5 + 1/3*π6 + 1/3*π7 + 0*π8  \n",
    "0 = 0*π1 + 1/3*π2 + 0*π3 + 0*π4 + 1/3*π5 + -1*π6 + 0*π7 + 1/3*π8  \n",
    "0 = 0*π1 + 0*π2 + 1/3*π3 + 0*π4 + 1/3*π5 + 0*π6 + -1*π7 + 1/3*π8  \n",
    "0 = 0*π1 + 0*π2 + 0*π3 + 1/3*π4 + 0*π5 + 1/3*π6 + 1/3*π7 + -1*π8  \n",
    "1 = π1 + π2 + π3 + π4 + π5 + π6 + π7 + π8  \n"
   ]
  },
  {
   "cell_type": "code",
   "execution_count": 61,
   "id": "cb8feab0-8469-494a-8c5f-4392c2fa4dab",
   "metadata": {},
   "outputs": [],
   "source": [
    "a = np.array([\n",
    "    [-1, (1/3), (1/3), 0, (1/3), 0, 0, 0],  \n",
    "    [(1/3), -1, 0, (1/3), 0, (1/3), 0, 0],  \n",
    "    [(1/3), 0, -1, (1/3), 0, 0, (1/3), 0],  \n",
    "    [0, (1/3), (1/3), -1, 0, 0, 0, (1/3)],  \n",
    "    [(1/3), 0, 0, 0, -1, (1/3), (1/3), 0],  \n",
    "    [0, (1/3), 0, 0, (1/3), -1, 0, (1/3)],  \n",
    "    [0, 0, (1/3), 0, (1/3), 0, -1, (1/3)],  \n",
    "    # [0, 0, 0, (1/3), 0, (1/3), (1/3), -1], \n",
    "    [1, 1, 1, 1, 1, 1, 1, 1]\n",
    "    ]) "
   ]
  },
  {
   "cell_type": "code",
   "execution_count": 65,
   "id": "6ede8eec-dc56-4f22-b847-d43d838da9a7",
   "metadata": {},
   "outputs": [],
   "source": [
    "b = np.array([0, 0, 0, 0, 0, 0, 0, 1])"
   ]
  },
  {
   "cell_type": "code",
   "execution_count": 66,
   "id": "939e6ff5-f9d1-4129-9f27-16aa4bc4b819",
   "metadata": {},
   "outputs": [],
   "source": [
    "x = np.linalg.solve(a, b)"
   ]
  },
  {
   "cell_type": "code",
   "execution_count": 67,
   "id": "6d133ff3-9c1e-48b3-89ab-8e9ab57387d9",
   "metadata": {},
   "outputs": [
    {
     "data": {
      "text/plain": [
       "array([0.125, 0.125, 0.125, 0.125, 0.125, 0.125, 0.125, 0.125])"
      ]
     },
     "execution_count": 67,
     "metadata": {},
     "output_type": "execute_result"
    }
   ],
   "source": [
    "x"
   ]
  },
  {
   "cell_type": "code",
   "execution_count": null,
   "id": "2300ec7d-aab7-4717-a59e-19a624152cb4",
   "metadata": {},
   "outputs": [],
   "source": []
  },
  {
   "cell_type": "code",
   "execution_count": null,
   "id": "9df3271a-967d-4ed2-9fa3-ebb9d39e45d5",
   "metadata": {},
   "outputs": [],
   "source": []
  },
  {
   "cell_type": "markdown",
   "id": "7abaa3d6-fd3d-4f85-ae68-c81ced93fef7",
   "metadata": {},
   "source": [
    "Let's try with the toy example from class"
   ]
  },
  {
   "cell_type": "code",
   "execution_count": 38,
   "id": "0608e15c-a9eb-4fd7-b674-3a79d7f85800",
   "metadata": {},
   "outputs": [],
   "source": [
    "a = np.array([\n",
    "    [-0.3, 0.4, 0],  \n",
    "    [0.3, -0.4, 0], \n",
    "    [1, 1, 0]\n",
    "    ]) "
   ]
  },
  {
   "cell_type": "code",
   "execution_count": 39,
   "id": "128b8cb1-83d1-4639-8e2f-f26484d70181",
   "metadata": {},
   "outputs": [],
   "source": [
    "b = np.array([0, 0, 1])"
   ]
  },
  {
   "cell_type": "code",
   "execution_count": 40,
   "id": "30865423-005d-4568-a664-65775e60975d",
   "metadata": {},
   "outputs": [
    {
     "ename": "LinAlgError",
     "evalue": "Singular matrix",
     "output_type": "error",
     "traceback": [
      "\u001b[0;31m---------------------------------------------------------------------------\u001b[0m",
      "\u001b[0;31mLinAlgError\u001b[0m                               Traceback (most recent call last)",
      "\u001b[0;32m/var/folders/1p/skxp0mkj0_jb0jp3xj2twqt40000gn/T/ipykernel_96108/1291061131.py\u001b[0m in \u001b[0;36m<module>\u001b[0;34m\u001b[0m\n\u001b[0;32m----> 1\u001b[0;31m \u001b[0mx\u001b[0m \u001b[0;34m=\u001b[0m \u001b[0mnp\u001b[0m\u001b[0;34m.\u001b[0m\u001b[0mlinalg\u001b[0m\u001b[0;34m.\u001b[0m\u001b[0msolve\u001b[0m\u001b[0;34m(\u001b[0m\u001b[0ma\u001b[0m\u001b[0;34m,\u001b[0m \u001b[0mb\u001b[0m\u001b[0;34m)\u001b[0m\u001b[0;34m\u001b[0m\u001b[0;34m\u001b[0m\u001b[0m\n\u001b[0m",
      "\u001b[0;32m<__array_function__ internals>\u001b[0m in \u001b[0;36msolve\u001b[0;34m(*args, **kwargs)\u001b[0m\n",
      "\u001b[0;32m/opt/anaconda3/lib/python3.9/site-packages/numpy/linalg/linalg.py\u001b[0m in \u001b[0;36msolve\u001b[0;34m(a, b)\u001b[0m\n\u001b[1;32m    391\u001b[0m     \u001b[0msignature\u001b[0m \u001b[0;34m=\u001b[0m \u001b[0;34m'DD->D'\u001b[0m \u001b[0;32mif\u001b[0m \u001b[0misComplexType\u001b[0m\u001b[0;34m(\u001b[0m\u001b[0mt\u001b[0m\u001b[0;34m)\u001b[0m \u001b[0;32melse\u001b[0m \u001b[0;34m'dd->d'\u001b[0m\u001b[0;34m\u001b[0m\u001b[0;34m\u001b[0m\u001b[0m\n\u001b[1;32m    392\u001b[0m     \u001b[0mextobj\u001b[0m \u001b[0;34m=\u001b[0m \u001b[0mget_linalg_error_extobj\u001b[0m\u001b[0;34m(\u001b[0m\u001b[0m_raise_linalgerror_singular\u001b[0m\u001b[0;34m)\u001b[0m\u001b[0;34m\u001b[0m\u001b[0;34m\u001b[0m\u001b[0m\n\u001b[0;32m--> 393\u001b[0;31m     \u001b[0mr\u001b[0m \u001b[0;34m=\u001b[0m \u001b[0mgufunc\u001b[0m\u001b[0;34m(\u001b[0m\u001b[0ma\u001b[0m\u001b[0;34m,\u001b[0m \u001b[0mb\u001b[0m\u001b[0;34m,\u001b[0m \u001b[0msignature\u001b[0m\u001b[0;34m=\u001b[0m\u001b[0msignature\u001b[0m\u001b[0;34m,\u001b[0m \u001b[0mextobj\u001b[0m\u001b[0;34m=\u001b[0m\u001b[0mextobj\u001b[0m\u001b[0;34m)\u001b[0m\u001b[0;34m\u001b[0m\u001b[0;34m\u001b[0m\u001b[0m\n\u001b[0m\u001b[1;32m    394\u001b[0m \u001b[0;34m\u001b[0m\u001b[0m\n\u001b[1;32m    395\u001b[0m     \u001b[0;32mreturn\u001b[0m \u001b[0mwrap\u001b[0m\u001b[0;34m(\u001b[0m\u001b[0mr\u001b[0m\u001b[0;34m.\u001b[0m\u001b[0mastype\u001b[0m\u001b[0;34m(\u001b[0m\u001b[0mresult_t\u001b[0m\u001b[0;34m,\u001b[0m \u001b[0mcopy\u001b[0m\u001b[0;34m=\u001b[0m\u001b[0;32mFalse\u001b[0m\u001b[0;34m)\u001b[0m\u001b[0;34m)\u001b[0m\u001b[0;34m\u001b[0m\u001b[0;34m\u001b[0m\u001b[0m\n",
      "\u001b[0;32m/opt/anaconda3/lib/python3.9/site-packages/numpy/linalg/linalg.py\u001b[0m in \u001b[0;36m_raise_linalgerror_singular\u001b[0;34m(err, flag)\u001b[0m\n\u001b[1;32m     86\u001b[0m \u001b[0;34m\u001b[0m\u001b[0m\n\u001b[1;32m     87\u001b[0m \u001b[0;32mdef\u001b[0m \u001b[0m_raise_linalgerror_singular\u001b[0m\u001b[0;34m(\u001b[0m\u001b[0merr\u001b[0m\u001b[0;34m,\u001b[0m \u001b[0mflag\u001b[0m\u001b[0;34m)\u001b[0m\u001b[0;34m:\u001b[0m\u001b[0;34m\u001b[0m\u001b[0;34m\u001b[0m\u001b[0m\n\u001b[0;32m---> 88\u001b[0;31m     \u001b[0;32mraise\u001b[0m \u001b[0mLinAlgError\u001b[0m\u001b[0;34m(\u001b[0m\u001b[0;34m\"Singular matrix\"\u001b[0m\u001b[0;34m)\u001b[0m\u001b[0;34m\u001b[0m\u001b[0;34m\u001b[0m\u001b[0m\n\u001b[0m\u001b[1;32m     89\u001b[0m \u001b[0;34m\u001b[0m\u001b[0m\n\u001b[1;32m     90\u001b[0m \u001b[0;32mdef\u001b[0m \u001b[0m_raise_linalgerror_nonposdef\u001b[0m\u001b[0;34m(\u001b[0m\u001b[0merr\u001b[0m\u001b[0;34m,\u001b[0m \u001b[0mflag\u001b[0m\u001b[0;34m)\u001b[0m\u001b[0;34m:\u001b[0m\u001b[0;34m\u001b[0m\u001b[0;34m\u001b[0m\u001b[0m\n",
      "\u001b[0;31mLinAlgError\u001b[0m: Singular matrix"
     ]
    }
   ],
   "source": [
    "x = np.linalg.solve(a, b)"
   ]
  },
  {
   "cell_type": "code",
   "execution_count": null,
   "id": "ed0c1892-43a4-42a3-bedf-a0a30db493da",
   "metadata": {},
   "outputs": [],
   "source": []
  }
 ],
 "metadata": {
  "kernelspec": {
   "display_name": "Python 3 (ipykernel)",
   "language": "python",
   "name": "python3"
  },
  "language_info": {
   "codemirror_mode": {
    "name": "ipython",
    "version": 3
   },
   "file_extension": ".py",
   "mimetype": "text/x-python",
   "name": "python",
   "nbconvert_exporter": "python",
   "pygments_lexer": "ipython3",
   "version": "3.9.7"
  }
 },
 "nbformat": 4,
 "nbformat_minor": 5
}
