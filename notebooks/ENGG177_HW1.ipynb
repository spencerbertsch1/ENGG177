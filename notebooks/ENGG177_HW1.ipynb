{
 "cells": [
  {
   "cell_type": "markdown",
   "id": "3bda526a-1e92-4ea6-a6fd-9411e2fb505c",
   "metadata": {},
   "source": [
    "# ENGG177 In Class Exercises \n",
    "### Lecture 4, Problem 3\n",
    "\n",
    "Spencer Bertsch"
   ]
  },
  {
   "cell_type": "code",
   "execution_count": 2,
   "id": "92f16812-27e8-4ef0-bfc6-a8551b88bbb7",
   "metadata": {},
   "outputs": [],
   "source": [
    "import random\n",
    "import numpy as np"
   ]
  },
  {
   "cell_type": "code",
   "execution_count": 31,
   "id": "a641c607-7194-4a72-854e-31dc3faeb7ae",
   "metadata": {},
   "outputs": [],
   "source": [
    "def flipCoin():\n",
    "    return random.choice([True,False])"
   ]
  },
  {
   "cell_type": "markdown",
   "id": "cdcc0036-a069-4cde-8f03-0e1539b7a0fc",
   "metadata": {},
   "source": [
    "Let's run this with a simulation of 10 million trials"
   ]
  },
  {
   "cell_type": "code",
   "execution_count": 43,
   "id": "0bdc8c4d-5c66-4678-b379-192dd2ab1c1f",
   "metadata": {},
   "outputs": [
    {
     "name": "stdout",
     "output_type": "stream",
     "text": [
      "After 1000000 trials, we recorded 199971 wins and 800029 loses. The player won 20.0% of the time.\n"
     ]
    }
   ],
   "source": [
    "# initialize parameters for the simulation\n",
    "wins = 0\n",
    "loses = 0\n",
    "tosses_list = []\n",
    "winning_tosses_list = []\n",
    "TRIALS: int = 1_000_000\n",
    "\n",
    "for i in range(TRIALS):\n",
    "\n",
    "    # initialize capital to 2\n",
    "    capital = 2\n",
    "    playing = True\n",
    "    tosses = 0\n",
    "    while playing is True:\n",
    "        # increment the number of coin tosses\n",
    "        tosses += 1\n",
    "        \n",
    "        # define the amount of money you want to bet here\n",
    "        if capital > 5: \n",
    "            bet = 10 - capital\n",
    "        else:\n",
    "            bet = capital\n",
    "\n",
    "        if flipCoin() is True:\n",
    "            # add the new winnings to the capital you already have \n",
    "            capital = capital + bet\n",
    "\n",
    "            # if we win the game, then increment wins and break out of the loop\n",
    "            if capital >= 10: \n",
    "                wins += 1\n",
    "                playing = False\n",
    "                winning_tosses_list.append(tosses)\n",
    "\n",
    "        else: \n",
    "            # we pay the casino the amount equal to our bet\n",
    "            capital = capital - bet\n",
    "\n",
    "            # if we have run out of money, we lost the game so we record the loss and break \n",
    "            if capital <= 0:\n",
    "                loses += 1\n",
    "                playing = False\n",
    "                \n",
    "    tosses_list.append(tosses)\n",
    "\n",
    "prob_win: float = round(wins/(loses+wins), 4)*100\n",
    "print(f'After {TRIALS} trials, we recorded {wins} wins and {loses} loses. The player won {prob_win}% of the time.')"
   ]
  },
  {
   "cell_type": "code",
   "execution_count": 44,
   "id": "8f5d4b9a-d619-48ec-a3ba-88d6add09537",
   "metadata": {},
   "outputs": [
    {
     "name": "stdout",
     "output_type": "stream",
     "text": [
      "Probability of winning is: 20%\n"
     ]
    }
   ],
   "source": [
    "print(f'Probability of winning is: {round(prob_win)}%')"
   ]
  },
  {
   "cell_type": "markdown",
   "id": "d61af2bc-c8c0-41f2-b5d5-6d27ca60ec32",
   "metadata": {},
   "source": [
    "We can also test our solution to the homework problem using this code: "
   ]
  },
  {
   "cell_type": "code",
   "execution_count": 45,
   "id": "5deaeb99-ae4c-4cad-b59c-3748d9b4d81a",
   "metadata": {},
   "outputs": [
    {
     "name": "stdout",
     "output_type": "stream",
     "text": [
      "On average, the coin was tossed 2.0 times.\n"
     ]
    }
   ],
   "source": [
    "print(f'On average, the coin was tossed {round(sum(tosses_list)/len(tosses_list), 1)} times.')"
   ]
  },
  {
   "cell_type": "code",
   "execution_count": 46,
   "id": "e10b1e13-090f-42a4-996d-b0cd2bb18e9d",
   "metadata": {},
   "outputs": [
    {
     "name": "stdout",
     "output_type": "stream",
     "text": [
      "When the gambler won, the coin was tossed an average of 3.6 times.\n"
     ]
    }
   ],
   "source": [
    "print(f'When the gambler won, the coin was tossed an average of {round(sum(winning_tosses_list)/len(winning_tosses_list), 1)} times.')"
   ]
  },
  {
   "cell_type": "markdown",
   "id": "edcb698e-78ea-4d1b-8258-0ccbac98e2f1",
   "metadata": {},
   "source": [
    "Ok that was fun and we got the correct answer, but now let's solve it the correct way: "
   ]
  },
  {
   "cell_type": "markdown",
   "id": "7cf55162-4321-4e7c-8b49-0d7e8bb13aa8",
   "metadata": {},
   "source": [
    "# Homework 1\n",
    "\n",
    "### Question 3"
   ]
  },
  {
   "cell_type": "markdown",
   "id": "9c3473c4-3d2b-4079-ba63-c9b4f5528879",
   "metadata": {},
   "source": [
    "Let's define the system of linear equations that we need to solve:"
   ]
  },
  {
   "cell_type": "markdown",
   "id": "06eca44a-7e06-46d7-baf5-b0ee3c753736",
   "metadata": {},
   "source": [
    "$p_2$ = $1/2 \\cdot p_{0} + 1/2 \\cdot p_{4}$\n",
    "\n",
    "$p_4$ = $1/2 \\cdot p_{0} + 1/2 \\cdot p_{8}$\n",
    "\n",
    "$p_6$ = $1/2 \\cdot p_{2} + 1/2 \\cdot p_{10}$\n",
    "\n",
    "$p_8$ = $1/2 \\cdot p_{6} + 1/2 \\cdot p_{10}$\n",
    "\n",
    "$p_{10} = 1$\n",
    "\n",
    "$p_0 = 0$"
   ]
  },
  {
   "cell_type": "markdown",
   "id": "a017072a-dee6-48e2-8e07-3182459a22c9",
   "metadata": {},
   "source": [
    "We can now reorder these equations to write them in the form $AX=b$"
   ]
  },
  {
   "cell_type": "markdown",
   "id": "68051901-a7a2-41af-95f3-0a9567947fa9",
   "metadata": {},
   "source": [
    "0 = 0.5*p0 - 1*p2 + 0.5*p4 + 0*p6 + 0*p8 + 0*p10  \n",
    "0 = 0.5*p0 + 0*p2 - 1*p4 + 0*p6 + 1/2*p8 + 0*p10  \n",
    "0 = 0*p0 + 0.5*p2 + 0*p4 - 1*p6 + 0*p8 + 0.5*p10  \n",
    "0 = 0*p0 + 0*p2 + 0*p4 + 0.5*p6 - 1*p8 + 0.5*p10  \n",
    "1 = 0*p0 +0*p2 + 0*p4 + 0*p6 + 0*p8 + 1*p10  \n",
    "0 = 1*p0 + 0*p2 + 0*p4 + 0*p6 + 0*p8 + 0*p10  \n"
   ]
  },
  {
   "cell_type": "code",
   "execution_count": 72,
   "id": "f168c083-ff50-4b03-b86e-7549fbac2dbe",
   "metadata": {},
   "outputs": [],
   "source": [
    "a = np.array([\n",
    "    [0.5, -1, 0.5, 0, 0, 0],  \n",
    "    [0.5, 0, -1, 0, 0.5, 0],\n",
    "    [0, 0.5, 0, -1, 0, 0.5],\n",
    "    [0, 0, 0, 0.5, -1, 0.5],\n",
    "    [0, 0, 0, 0, 0, 1],\n",
    "    [1, 0, 0, 0, 0, 0],\n",
    "    ]) "
   ]
  },
  {
   "cell_type": "code",
   "execution_count": 73,
   "id": "8131f7e3-2ef6-44e3-9019-a6782f8debb6",
   "metadata": {},
   "outputs": [
    {
     "data": {
      "text/plain": [
       "array([[ 0.5, -1. ,  0.5,  0. ,  0. ,  0. ],\n",
       "       [ 0.5,  0. , -1. ,  0. ,  0.5,  0. ],\n",
       "       [ 0. ,  0.5,  0. , -1. ,  0. ,  0.5],\n",
       "       [ 0. ,  0. ,  0. ,  0.5, -1. ,  0.5],\n",
       "       [ 0. ,  0. ,  0. ,  0. ,  0. ,  1. ],\n",
       "       [ 1. ,  0. ,  0. ,  0. ,  0. ,  0. ]])"
      ]
     },
     "execution_count": 73,
     "metadata": {},
     "output_type": "execute_result"
    }
   ],
   "source": [
    "a"
   ]
  },
  {
   "cell_type": "code",
   "execution_count": 75,
   "id": "4e2f653b-d6f0-4353-8418-f38022c7e4a4",
   "metadata": {},
   "outputs": [
    {
     "data": {
      "text/plain": [
       "array([0, 0, 0, 0, 1, 0])"
      ]
     },
     "execution_count": 75,
     "metadata": {},
     "output_type": "execute_result"
    }
   ],
   "source": [
    "b = np.array([0, 0, 0, 0, 1, 0])\n",
    "b"
   ]
  },
  {
   "cell_type": "code",
   "execution_count": 76,
   "id": "817b6692-65fb-488e-b6bc-266228331975",
   "metadata": {},
   "outputs": [
    {
     "data": {
      "text/plain": [
       "array([0. , 0.2, 0.4, 0.6, 0.8, 1. ])"
      ]
     },
     "execution_count": 76,
     "metadata": {},
     "output_type": "execute_result"
    }
   ],
   "source": [
    "x = np.linalg.solve(a, b)\n",
    "x"
   ]
  },
  {
   "cell_type": "markdown",
   "id": "91380a74-0118-4256-b9e0-ad6fcba7b372",
   "metadata": {},
   "source": [
    "Okay, fantastic. We got the same answer as the simulation showed above. There's a 20% chance of winning if we start from $p_2$, which is the starting point in the example problem. More interestingly, we see the probability of winning given all the different starting points in the game. If we start with zero dollars, then there's a 0% probability of winning because that is an absorbing node in the network. Similarly, if we start with ten dollars, then there is a 100% probability of winning because that is also an absorbing node. If we start in any other intermidiate node, however, we see that the probability of success increases as we choose nodes in the network that are closer to 10. This makes sense because there are fewer coin tosses needed to end up in the (10) absorbing node when starting from $p_6$ or $p_8$. As per this problem's description, we can see that starting in $p_2$ means that we need to traverse the whole network to get to node (10), but we only need to step backwards one step to get to node (0). Now let's move onto the parts of this problem that we see in the first homework involving the hitting times: "
   ]
  },
  {
   "cell_type": "code",
   "execution_count": 96,
   "id": "a79e0aea-c6ea-42df-87e0-22c7b135b70d",
   "metadata": {},
   "outputs": [
    {
     "data": {
      "text/plain": [
       "array([[ 0. ,  1. , -0.5,  0. ,  0. ,  0. ],\n",
       "       [ 0. ,  0. ,  1. ,  0. , -0.5,  0. ],\n",
       "       [ 0. , -0.5,  0. ,  1. ,  0. ,  0. ],\n",
       "       [ 0. ,  0. ,  0. , -0.5,  1. ,  0. ],\n",
       "       [ 1. ,  0. ,  0. ,  0. ,  0. ,  0. ],\n",
       "       [ 0. ,  0. ,  0. ,  0. ,  0. ,  1. ]])"
      ]
     },
     "execution_count": 96,
     "metadata": {},
     "output_type": "execute_result"
    }
   ],
   "source": [
    "# define transition probability from each node to adjacent nodes\n",
    "t = (1/2)\n",
    "\n",
    "# define probability matrix a\n",
    "a = np.array([\n",
    "[0, 1, -t, 0, 0, 0],\n",
    "[0, 0, 1, 0, -t, 0],\n",
    "[0, -t, 0, 1, 0, 0],\n",
    "[0, 0, 0, -t, 1, 0],\n",
    "[1, 0, 0, 0, 0, 0],\n",
    "[0, 0, 0, 0, 0, 1],\n",
    "])\n",
    "a"
   ]
  },
  {
   "cell_type": "code",
   "execution_count": 99,
   "id": "e1075f89-016b-4e34-8e31-38e039cd19cf",
   "metadata": {},
   "outputs": [],
   "source": [
    "# define b vector\n",
    "b = np.array([1, 1, 1, 1, 0, 0])"
   ]
  },
  {
   "cell_type": "code",
   "execution_count": 100,
   "id": "96881d7e-7d2e-49dc-924f-16ddfd099006",
   "metadata": {},
   "outputs": [
    {
     "data": {
      "text/plain": [
       "array([0., 2., 2., 2., 2., 0.])"
      ]
     },
     "execution_count": 100,
     "metadata": {},
     "output_type": "execute_result"
    }
   ],
   "source": [
    "# solve the system of linear equations\n",
    "x = np.linalg.solve(a, b)\n",
    "x"
   ]
  },
  {
   "cell_type": "markdown",
   "id": "e7ba9ce4-41a3-4d65-b8ee-ac0e81fe7729",
   "metadata": {},
   "source": [
    "So we can see that the expected number of tosses until the gambler either  \n",
    "acieves his aim OR loses his capital after starting with two dollars is **two toses**. "
   ]
  },
  {
   "cell_type": "markdown",
   "id": "f2aa554d-f7c8-4105-9deb-f161e5e773e0",
   "metadata": {},
   "source": [
    "# Homework 1 Question 4"
   ]
  },
  {
   "cell_type": "markdown",
   "id": "05876baa-7c0b-4703-a3fb-ae541774aa45",
   "metadata": {},
   "source": [
    "0 = -1*π1 + 1/3*π2 + 1/3*π3 + 0*π4 + 1/3*π5 + 0*π6 + 0*π7 + 0*π8  \n",
    "0 = 1/3*π1 + -1*π2 + 0*π3 + 1/3*π4 + 0*π5 + 1/3*π6 + 0*π7 + 0*π8  \n",
    "0 = 1/3*π1 + 0*π2 + -1*π3 + 1/3*π4 + 0*π5 + 0*π6 + 1/3*π7 + 0*π8  \n",
    "0 = 0*π1 + 1/3*π2 + 1/3*π3 + -1*π4 + 0*π5 + 0*π6 + 0*π7 + 1/3*π8  \n",
    "0 = 1/3*π1 + 0*π2 + 0*π3 + 0*π4 + -1*π5 + 1/3*π6 + 1/3*π7 + 0*π8  \n",
    "0 = 0*π1 + 1/3*π2 + 0*π3 + 0*π4 + 1/3*π5 + -1*π6 + 0*π7 + 1/3*π8  \n",
    "0 = 0*π1 + 0*π2 + 1/3*π3 + 0*π4 + 1/3*π5 + 0*π6 + -1*π7 + 1/3*π8  \n",
    "0 = 0*π1 + 0*π2 + 0*π3 + 1/3*π4 + 0*π5 + 1/3*π6 + 1/3*π7 + -1*π8  \n",
    "1 = π1 + π2 + π3 + π4 + π5 + π6 + π7 + π8  \n"
   ]
  },
  {
   "cell_type": "code",
   "execution_count": 61,
   "id": "cb8feab0-8469-494a-8c5f-4392c2fa4dab",
   "metadata": {},
   "outputs": [],
   "source": [
    "a = np.array([\n",
    "    [-1, (1/3), (1/3), 0, (1/3), 0, 0, 0],  \n",
    "    [(1/3), -1, 0, (1/3), 0, (1/3), 0, 0],  \n",
    "    [(1/3), 0, -1, (1/3), 0, 0, (1/3), 0],  \n",
    "    [0, (1/3), (1/3), -1, 0, 0, 0, (1/3)],  \n",
    "    [(1/3), 0, 0, 0, -1, (1/3), (1/3), 0],  \n",
    "    [0, (1/3), 0, 0, (1/3), -1, 0, (1/3)],  \n",
    "    [0, 0, (1/3), 0, (1/3), 0, -1, (1/3)],  \n",
    "    # [0, 0, 0, (1/3), 0, (1/3), (1/3), -1], \n",
    "    [1, 1, 1, 1, 1, 1, 1, 1]\n",
    "    ]) "
   ]
  },
  {
   "cell_type": "code",
   "execution_count": 65,
   "id": "6ede8eec-dc56-4f22-b847-d43d838da9a7",
   "metadata": {},
   "outputs": [],
   "source": [
    "b = np.array([0, 0, 0, 0, 0, 0, 0, 1])"
   ]
  },
  {
   "cell_type": "code",
   "execution_count": 66,
   "id": "939e6ff5-f9d1-4129-9f27-16aa4bc4b819",
   "metadata": {},
   "outputs": [],
   "source": [
    "x = np.linalg.solve(a, b)"
   ]
  },
  {
   "cell_type": "code",
   "execution_count": 67,
   "id": "6d133ff3-9c1e-48b3-89ab-8e9ab57387d9",
   "metadata": {},
   "outputs": [
    {
     "data": {
      "text/plain": [
       "array([0.125, 0.125, 0.125, 0.125, 0.125, 0.125, 0.125, 0.125])"
      ]
     },
     "execution_count": 67,
     "metadata": {},
     "output_type": "execute_result"
    }
   ],
   "source": [
    "x"
   ]
  },
  {
   "cell_type": "markdown",
   "id": "b1b726bc-3de3-43dd-bd77-b6db5474e529",
   "metadata": {},
   "source": [
    "We can see from the above output that the bug would spend exactly 12.5% of the time, or (1/8) of the time in each corner of the cube. This also makes intuitive sense because there's nothing attracting the bug to any one corner of the cube, so as time goes to infinity we could imagine the bug creating a discrete uniform distribution over each of it's possible positions in the cube spending equal amounts of time in each corner. "
   ]
  },
  {
   "cell_type": "code",
   "execution_count": null,
   "id": "9df3271a-967d-4ed2-9fa3-ebb9d39e45d5",
   "metadata": {},
   "outputs": [],
   "source": []
  },
  {
   "cell_type": "markdown",
   "id": "7abaa3d6-fd3d-4f85-ae68-c81ced93fef7",
   "metadata": {},
   "source": [
    "Let's try with the toy example from class"
   ]
  },
  {
   "cell_type": "code",
   "execution_count": 68,
   "id": "0608e15c-a9eb-4fd7-b674-3a79d7f85800",
   "metadata": {},
   "outputs": [],
   "source": [
    "a = np.array([\n",
    "    [-0.3, 0.4],  \n",
    "    # [0.3, -0.4], \n",
    "    [1, 1]\n",
    "    ]) "
   ]
  },
  {
   "cell_type": "code",
   "execution_count": 69,
   "id": "128b8cb1-83d1-4639-8e2f-f26484d70181",
   "metadata": {},
   "outputs": [],
   "source": [
    "b = np.array([0, 1])"
   ]
  },
  {
   "cell_type": "code",
   "execution_count": 71,
   "id": "30865423-005d-4568-a664-65775e60975d",
   "metadata": {},
   "outputs": [
    {
     "data": {
      "text/plain": [
       "array([0.57142857, 0.42857143])"
      ]
     },
     "execution_count": 71,
     "metadata": {},
     "output_type": "execute_result"
    }
   ],
   "source": [
    "x = np.linalg.solve(a, b)\n",
    "x"
   ]
  },
  {
   "cell_type": "markdown",
   "id": "7714153f-9928-40ba-888f-1a6bd0273a06",
   "metadata": {},
   "source": [
    "We can now extend this to the hitting times problem: "
   ]
  },
  {
   "cell_type": "code",
   "execution_count": 90,
   "id": "5b4c1b31-3598-45dd-9bc8-a9c1bb01dab6",
   "metadata": {},
   "outputs": [],
   "source": [
    "t = (1/3)\n",
    "\n",
    "a = np.array([\n",
    "[1,-t, -t,  0, -t,  0,  0,  0],\n",
    "[-t, 1,  0, -t,  0, -t,  0, 0],\n",
    "[-t, 0,  1, -t,  0,  0, -t, 0],\n",
    "[0,-t, -t,  1,  0,  0,  0,  0],\n",
    "[-t, 0,  0,  0,  1, -t, -t, 0],\n",
    "[0,-t,  0,  0, -t,  1,  0,  0],\n",
    "[0, 0, -t,  0, -t,  0,  1,  0],\n",
    "[0, 0,  0,  0,  0,  0,  0,  1]\n",
    "])"
   ]
  },
  {
   "cell_type": "code",
   "execution_count": 91,
   "id": "59fedcd0-da15-49a4-9717-ee63ea111076",
   "metadata": {},
   "outputs": [],
   "source": [
    "b = [1, 1, 1, 1, 1, 1, 1, 0]"
   ]
  },
  {
   "cell_type": "code",
   "execution_count": 92,
   "id": "23060484-e344-4a03-9016-545500e4c593",
   "metadata": {},
   "outputs": [
    {
     "data": {
      "text/plain": [
       "array([10.,  9.,  9.,  7.,  9.,  7.,  7.,  0.])"
      ]
     },
     "execution_count": 92,
     "metadata": {},
     "output_type": "execute_result"
    }
   ],
   "source": [
    "x = np.linalg.solve(a, b)\n",
    "x"
   ]
  },
  {
   "cell_type": "markdown",
   "id": "7085f96f-f015-427b-a4a9-6285c6eb3029",
   "metadata": {},
   "source": [
    "We can see from the result that it will take an expected 10 steps  \n",
    "for the bug to get from the starting corner to the opposite corner of the cube. "
   ]
  },
  {
   "cell_type": "code",
   "execution_count": null,
   "id": "47113c97-cda6-46d0-b3af-005b87470540",
   "metadata": {},
   "outputs": [],
   "source": []
  }
 ],
 "metadata": {
  "kernelspec": {
   "display_name": "Python 3 (ipykernel)",
   "language": "python",
   "name": "python3"
  },
  "language_info": {
   "codemirror_mode": {
    "name": "ipython",
    "version": 3
   },
   "file_extension": ".py",
   "mimetype": "text/x-python",
   "name": "python",
   "nbconvert_exporter": "python",
   "pygments_lexer": "ipython3",
   "version": "3.9.7"
  }
 },
 "nbformat": 4,
 "nbformat_minor": 5
}
